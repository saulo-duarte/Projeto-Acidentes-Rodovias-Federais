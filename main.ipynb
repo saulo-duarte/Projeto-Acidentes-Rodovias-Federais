{
 "cells": [
  {
   "cell_type": "markdown",
   "metadata": {},
   "source": [
    "# **Projeto - Análise de dados - Acidentes Em Rodovias Federais**\n"
   ]
  },
  {
   "cell_type": "markdown",
   "metadata": {},
   "source": [
    " Projeto com dados disponíveis no site do governo: [Link](https://www.gov.br/prf/pt-br/acesso-a-informacao/dados-abertos/dados-abertos-da-prf)\n"
   ]
  },
  {
   "cell_type": "code",
   "execution_count": 1,
   "metadata": {},
   "outputs": [],
   "source": [
    "import pandas as pd\n",
    "import numpy as np\n",
    "import matplotlib.pyplot as plt\n",
    "#import mysql.connector\n",
    "#from sqlalchemy import create_engine\n"
   ]
  },
  {
   "cell_type": "code",
   "execution_count": 2,
   "metadata": {},
   "outputs": [],
   "source": [
    "df_2020 = pd.read_csv(\"acidentes2020_todas_causas_tipos.csv\", encoding='iso-8859-1', delimiter=\";\")\n",
    "df_2021 = pd.read_csv(\"acidentes2021_todas_causas_tipos.csv\", encoding='iso-8859-1', delimiter=\";\")\n",
    "df_2022 = pd.read_csv(\"acidentes2022_todas_causas_tipos.csv\", encoding='iso-8859-1', delimiter=\";\")\n",
    "df_2023 = pd.read_csv(\"acidentes2023_todas_causas_tipos.csv\", encoding='iso-8859-1', delimiter=\";\")\n",
    "df = pd.concat([df_2020, df_2021, df_2022, df_2023], ignore_index=True)"
   ]
  },
  {
   "cell_type": "markdown",
   "metadata": {},
   "source": [
    "### **Realizando a limpeza dos dados duplicados**"
   ]
  },
  {
   "cell_type": "code",
   "execution_count": 3,
   "metadata": {},
   "outputs": [],
   "source": [
    "df = df.drop_duplicates()"
   ]
  },
  {
   "cell_type": "code",
   "execution_count": 5,
   "metadata": {},
   "outputs": [
    {
     "data": {
      "text/plain": [
       "(1712888, 37)"
      ]
     },
     "execution_count": 5,
     "metadata": {},
     "output_type": "execute_result"
    }
   ],
   "source": [
    "df.shape"
   ]
  },
  {
   "cell_type": "code",
   "execution_count": 4,
   "metadata": {},
   "outputs": [
    {
     "data": {
      "text/html": [
       "<div>\n",
       "<style scoped>\n",
       "    .dataframe tbody tr th:only-of-type {\n",
       "        vertical-align: middle;\n",
       "    }\n",
       "\n",
       "    .dataframe tbody tr th {\n",
       "        vertical-align: top;\n",
       "    }\n",
       "\n",
       "    .dataframe thead th {\n",
       "        text-align: right;\n",
       "    }\n",
       "</style>\n",
       "<table border=\"1\" class=\"dataframe\">\n",
       "  <thead>\n",
       "    <tr style=\"text-align: right;\">\n",
       "      <th></th>\n",
       "      <th>id</th>\n",
       "      <th>pesid</th>\n",
       "      <th>data_inversa</th>\n",
       "      <th>dia_semana</th>\n",
       "      <th>horario</th>\n",
       "      <th>uf</th>\n",
       "      <th>br</th>\n",
       "      <th>km</th>\n",
       "      <th>municipio</th>\n",
       "      <th>causa_principal</th>\n",
       "      <th>...</th>\n",
       "      <th>sexo</th>\n",
       "      <th>ilesos</th>\n",
       "      <th>feridos_leves</th>\n",
       "      <th>feridos_graves</th>\n",
       "      <th>mortos</th>\n",
       "      <th>latitude</th>\n",
       "      <th>longitude</th>\n",
       "      <th>regional</th>\n",
       "      <th>delegacia</th>\n",
       "      <th>uop</th>\n",
       "    </tr>\n",
       "  </thead>\n",
       "  <tbody>\n",
       "    <tr>\n",
       "      <th>0</th>\n",
       "      <td>260031.0</td>\n",
       "      <td>578475.0</td>\n",
       "      <td>2020-01-01</td>\n",
       "      <td>quarta-feira</td>\n",
       "      <td>01:00:00</td>\n",
       "      <td>TO</td>\n",
       "      <td>153.0</td>\n",
       "      <td>678,1</td>\n",
       "      <td>GURUPI</td>\n",
       "      <td>Sim</td>\n",
       "      <td>...</td>\n",
       "      <td>Feminino</td>\n",
       "      <td>0</td>\n",
       "      <td>0</td>\n",
       "      <td>1</td>\n",
       "      <td>0</td>\n",
       "      <td>-11,77460203</td>\n",
       "      <td>-49,10744996</td>\n",
       "      <td>SPRF-TO</td>\n",
       "      <td>DEL02-TO</td>\n",
       "      <td>UOP02-DEL01-TO</td>\n",
       "    </tr>\n",
       "    <tr>\n",
       "      <th>1</th>\n",
       "      <td>260031.0</td>\n",
       "      <td>578475.0</td>\n",
       "      <td>2020-01-01</td>\n",
       "      <td>quarta-feira</td>\n",
       "      <td>01:00:00</td>\n",
       "      <td>TO</td>\n",
       "      <td>153.0</td>\n",
       "      <td>678,1</td>\n",
       "      <td>GURUPI</td>\n",
       "      <td>Sim</td>\n",
       "      <td>...</td>\n",
       "      <td>Feminino</td>\n",
       "      <td>0</td>\n",
       "      <td>0</td>\n",
       "      <td>1</td>\n",
       "      <td>0</td>\n",
       "      <td>-11,77460203</td>\n",
       "      <td>-49,10744996</td>\n",
       "      <td>SPRF-TO</td>\n",
       "      <td>DEL02-TO</td>\n",
       "      <td>UOP02-DEL01-TO</td>\n",
       "    </tr>\n",
       "    <tr>\n",
       "      <th>2</th>\n",
       "      <td>260031.0</td>\n",
       "      <td>578988.0</td>\n",
       "      <td>2020-01-01</td>\n",
       "      <td>quarta-feira</td>\n",
       "      <td>01:00:00</td>\n",
       "      <td>TO</td>\n",
       "      <td>153.0</td>\n",
       "      <td>678,1</td>\n",
       "      <td>GURUPI</td>\n",
       "      <td>Sim</td>\n",
       "      <td>...</td>\n",
       "      <td>Masculino</td>\n",
       "      <td>0</td>\n",
       "      <td>0</td>\n",
       "      <td>1</td>\n",
       "      <td>0</td>\n",
       "      <td>-11,77460203</td>\n",
       "      <td>-49,10744996</td>\n",
       "      <td>SPRF-TO</td>\n",
       "      <td>DEL02-TO</td>\n",
       "      <td>UOP02-DEL01-TO</td>\n",
       "    </tr>\n",
       "    <tr>\n",
       "      <th>3</th>\n",
       "      <td>260031.0</td>\n",
       "      <td>578988.0</td>\n",
       "      <td>2020-01-01</td>\n",
       "      <td>quarta-feira</td>\n",
       "      <td>01:00:00</td>\n",
       "      <td>TO</td>\n",
       "      <td>153.0</td>\n",
       "      <td>678,1</td>\n",
       "      <td>GURUPI</td>\n",
       "      <td>Sim</td>\n",
       "      <td>...</td>\n",
       "      <td>Masculino</td>\n",
       "      <td>0</td>\n",
       "      <td>0</td>\n",
       "      <td>1</td>\n",
       "      <td>0</td>\n",
       "      <td>-11,77460203</td>\n",
       "      <td>-49,10744996</td>\n",
       "      <td>SPRF-TO</td>\n",
       "      <td>DEL02-TO</td>\n",
       "      <td>UOP02-DEL01-TO</td>\n",
       "    </tr>\n",
       "    <tr>\n",
       "      <th>4</th>\n",
       "      <td>260031.0</td>\n",
       "      <td>578987.0</td>\n",
       "      <td>2020-01-01</td>\n",
       "      <td>quarta-feira</td>\n",
       "      <td>01:00:00</td>\n",
       "      <td>TO</td>\n",
       "      <td>153.0</td>\n",
       "      <td>678,1</td>\n",
       "      <td>GURUPI</td>\n",
       "      <td>Sim</td>\n",
       "      <td>...</td>\n",
       "      <td>Masculino</td>\n",
       "      <td>0</td>\n",
       "      <td>0</td>\n",
       "      <td>1</td>\n",
       "      <td>0</td>\n",
       "      <td>-11,77460203</td>\n",
       "      <td>-49,10744996</td>\n",
       "      <td>SPRF-TO</td>\n",
       "      <td>DEL02-TO</td>\n",
       "      <td>UOP02-DEL01-TO</td>\n",
       "    </tr>\n",
       "  </tbody>\n",
       "</table>\n",
       "<p>5 rows × 37 columns</p>\n",
       "</div>"
      ],
      "text/plain": [
       "         id     pesid data_inversa    dia_semana   horario  uf     br     km  \\\n",
       "0  260031.0  578475.0   2020-01-01  quarta-feira  01:00:00  TO  153.0  678,1   \n",
       "1  260031.0  578475.0   2020-01-01  quarta-feira  01:00:00  TO  153.0  678,1   \n",
       "2  260031.0  578988.0   2020-01-01  quarta-feira  01:00:00  TO  153.0  678,1   \n",
       "3  260031.0  578988.0   2020-01-01  quarta-feira  01:00:00  TO  153.0  678,1   \n",
       "4  260031.0  578987.0   2020-01-01  quarta-feira  01:00:00  TO  153.0  678,1   \n",
       "\n",
       "  municipio causa_principal  ...       sexo  ilesos feridos_leves  \\\n",
       "0    GURUPI             Sim  ...   Feminino       0             0   \n",
       "1    GURUPI             Sim  ...   Feminino       0             0   \n",
       "2    GURUPI             Sim  ...  Masculino       0             0   \n",
       "3    GURUPI             Sim  ...  Masculino       0             0   \n",
       "4    GURUPI             Sim  ...  Masculino       0             0   \n",
       "\n",
       "  feridos_graves mortos      latitude     longitude regional delegacia  \\\n",
       "0              1      0  -11,77460203  -49,10744996  SPRF-TO  DEL02-TO   \n",
       "1              1      0  -11,77460203  -49,10744996  SPRF-TO  DEL02-TO   \n",
       "2              1      0  -11,77460203  -49,10744996  SPRF-TO  DEL02-TO   \n",
       "3              1      0  -11,77460203  -49,10744996  SPRF-TO  DEL02-TO   \n",
       "4              1      0  -11,77460203  -49,10744996  SPRF-TO  DEL02-TO   \n",
       "\n",
       "              uop  \n",
       "0  UOP02-DEL01-TO  \n",
       "1  UOP02-DEL01-TO  \n",
       "2  UOP02-DEL01-TO  \n",
       "3  UOP02-DEL01-TO  \n",
       "4  UOP02-DEL01-TO  \n",
       "\n",
       "[5 rows x 37 columns]"
      ]
     },
     "execution_count": 4,
     "metadata": {},
     "output_type": "execute_result"
    }
   ],
   "source": [
    "df.head()"
   ]
  },
  {
   "cell_type": "markdown",
   "metadata": {},
   "source": [
    "#### **Observando os tipos de dados das colunas**"
   ]
  },
  {
   "cell_type": "code",
   "execution_count": 6,
   "metadata": {},
   "outputs": [
    {
     "name": "stdout",
     "output_type": "stream",
     "text": [
      "{'id': 'float64', 'pesid': 'float64', 'data_inversa': 'object', 'dia_semana': 'object', 'horario': 'object', 'uf': 'object', 'br': 'float64', 'km': 'object', 'municipio': 'object', 'causa_principal': 'object', 'causa_acidente': 'object', 'ordem_tipo_acidente': 'int64', 'tipo_acidente': 'object', 'classificacao_acidente': 'object', 'fase_dia': 'object', 'sentido_via': 'object', 'condicao_metereologica': 'object', 'tipo_pista': 'object', 'tracado_via': 'object', 'uso_solo': 'object', 'id_veiculo': 'int64', 'tipo_veiculo': 'object', 'marca': 'object', 'ano_fabricacao_veiculo': 'float64', 'tipo_envolvido': 'object', 'estado_fisico': 'object', 'idade': 'float64', 'sexo': 'object', 'ilesos': 'int64', 'feridos_leves': 'int64', 'feridos_graves': 'int64', 'mortos': 'int64', 'latitude': 'object', 'longitude': 'object', 'regional': 'object', 'delegacia': 'object', 'uop': 'object'}\n"
     ]
    }
   ],
   "source": [
    "tipos_de_variaveis = {}\n",
    "\n",
    "for coluna in df.columns:\n",
    "    tipos_de_variaveis[coluna] = str(df[coluna].dtype)\n",
    "print(tipos_de_variaveis)"
   ]
  },
  {
   "cell_type": "markdown",
   "metadata": {},
   "source": [
    "#### **Excluindo Colunas Desnecessárias**"
   ]
  },
  {
   "cell_type": "code",
   "execution_count": 7,
   "metadata": {},
   "outputs": [],
   "source": [
    "df = df.drop(['pesid', 'id_veiculo', 'causa_principal', 'regional'], axis=1)"
   ]
  },
  {
   "cell_type": "markdown",
   "metadata": {},
   "source": [
    "#### **Formatação dos tipos de dados incorretos**"
   ]
  },
  {
   "cell_type": "code",
   "execution_count": 8,
   "metadata": {},
   "outputs": [],
   "source": [
    "\n",
    "formatar_tipos = {'id': str, \n",
    "                    'ordem_tipo_acidente': int,\n",
    "                    'idade': int,\n",
    "                    'ilesos': int,\n",
    "                    'feridos_leves': int,\n",
    "                    'feridos_graves': int,\n",
    "                    'mortos': int,\n",
    "                    'br': str,\n",
    "                    'ano_fabricacao_veiculo': str}\n",
    "df = df.astype(formatar_tipos, errors='ignore')"
   ]
  },
  {
   "cell_type": "markdown",
   "metadata": {},
   "source": [
    "#### **Encontrando colunas com valores vazios**"
   ]
  },
  {
   "cell_type": "code",
   "execution_count": 9,
   "metadata": {},
   "outputs": [
    {
     "name": "stdout",
     "output_type": "stream",
     "text": [
      "Colunas com valores NaN:\n",
      "Index(['km', 'tipo_acidente', 'marca', 'idade', 'delegacia', 'uop'], dtype='object')\n"
     ]
    }
   ],
   "source": [
    "colunas_com_nan = df.columns[df.isna().any()]\n",
    "print(\"Colunas com valores NaN:\")\n",
    "print(colunas_com_nan)"
   ]
  },
  {
   "cell_type": "markdown",
   "metadata": {},
   "source": [
    "##### **Detalhando as colunas com valores vazios**\n"
   ]
  },
  {
   "cell_type": "code",
   "execution_count": 10,
   "metadata": {},
   "outputs": [
    {
     "name": "stdout",
     "output_type": "stream",
     "text": [
      "\n",
      "Número total de valores NaN por coluna:\n",
      "km                 5781\n",
      "tipo_acidente         1\n",
      "marca             74297\n",
      "idade            170294\n",
      "delegacia           813\n",
      "uop                1453\n",
      "dtype: int64\n"
     ]
    }
   ],
   "source": [
    "total_valores_nan_por_coluna = df[colunas_com_nan].isna().sum()\n",
    "print(\"\\nNúmero total de valores NaN por coluna:\")\n",
    "print(total_valores_nan_por_coluna)"
   ]
  },
  {
   "cell_type": "markdown",
   "metadata": {},
   "source": [
    "#### **Preenchendo colunas**"
   ]
  },
  {
   "cell_type": "markdown",
   "metadata": {},
   "source": [
    "###### Colunas onde não há como preencher com dados reais"
   ]
  },
  {
   "cell_type": "code",
   "execution_count": 11,
   "metadata": {},
   "outputs": [],
   "source": [
    "df.fillna({'km': 'Não informado', \n",
    "                'br': 'Não informado', \n",
    "                'marca': 'Não informado', \n",
    "                'ano_fabricacao_veiculo': 'Não informado',\n",
    "                'tipo_acidente' : 'Desconhecido'\n",
    "                }, inplace=True)"
   ]
  },
  {
   "cell_type": "markdown",
   "metadata": {},
   "source": [
    "#### **Avaliando os dados referentes a idade**"
   ]
  },
  {
   "cell_type": "code",
   "execution_count": 12,
   "metadata": {},
   "outputs": [
    {
     "name": "stdout",
     "output_type": "stream",
     "text": [
      "Média: 39.15| Mediana: 37.0 | Desvio Padrão: 38.6589\n"
     ]
    }
   ],
   "source": [
    "media = (df['idade'].mean())\n",
    "mediana = df['idade'].median()\n",
    "desvio_padrao = np.std(df['idade'])\n",
    "print(f'Média: {round(media, 2)}| Mediana: {round(mediana, 2)} | Desvio Padrão: {round(desvio_padrao, 4)}')"
   ]
  },
  {
   "cell_type": "markdown",
   "metadata": {},
   "source": [
    "#### **Criando um Gráfico de Dispersão**"
   ]
  },
  {
   "cell_type": "markdown",
   "metadata": {},
   "source": [
    "###### com o objetivo de procurar outliers"
   ]
  },
  {
   "cell_type": "code",
   "execution_count": 13,
   "metadata": {},
   "outputs": [
    {
     "data": {
      "image/png": "[encoded data removed]",
      "text/plain": [
       "<Figure size 640x480 with 1 Axes>"
      ]
     },
     "metadata": {},
     "output_type": "display_data"
    }
   ],
   "source": [
    "plt.scatter(range(len(df['idade'])), df['idade'])\n",
    "plt.xlabel('Índice')\n",
    "plt.ylabel('Idade')\n",
    "plt.title('Gráfico de Dispersão - Idade')\n",
    "plt.show()"
   ]
  },
  {
   "cell_type": "markdown",
   "metadata": {},
   "source": [
    "#### **Medidas Ignorando os outliers**"
   ]
  },
  {
   "cell_type": "code",
   "execution_count": 14,
   "metadata": {},
   "outputs": [
    {
     "name": "stdout",
     "output_type": "stream",
     "text": [
      "Média: 38.21| Mediana: 37.0 | Desvio Padrão: 15.138\n"
     ]
    }
   ],
   "source": [
    "media = df.loc[df['idade'] <= 100, 'idade'].mean()\n",
    "mediana = df.loc[df['idade'] <= 100, 'idade'].median()\n",
    "desvio_padrao = np.std(df.loc[df['idade'] <= 100, 'idade'])\n",
    "print(f'Média: {round(media, 2)}| Mediana: {round(mediana, 2)} | Desvio Padrão: {round(desvio_padrao, 4)}')"
   ]
  },
  {
   "cell_type": "markdown",
   "metadata": {},
   "source": [
    "### **Substituindo valores na coluna idade**"
   ]
  },
  {
   "cell_type": "code",
   "execution_count": 15,
   "metadata": {},
   "outputs": [],
   "source": [
    "#Atribuindo o valor 37 obtido na mediana para as idades onde o valor é maior que 100 anos\n",
    "df.loc[df['idade'] > 100, 'idade'] = 37"
   ]
  },
  {
   "cell_type": "code",
   "execution_count": 16,
   "metadata": {},
   "outputs": [],
   "source": [
    "#Atribuindo a média sem outliers aos dados faltantes\n",
    "df.replace([np.inf, -np.inf], np.nan, inplace=True)\n",
    "df['idade'].fillna(round(df['idade'].mean()), inplace=True)"
   ]
  },
  {
   "cell_type": "markdown",
   "metadata": {},
   "source": [
    "#### **Criando um gráfico com os dados corrigidos**"
   ]
  },
  {
   "cell_type": "code",
   "execution_count": 17,
   "metadata": {},
   "outputs": [
    {
     "data": {
      "image/png": "[encoded data removed]",
      "text/plain": [
       "<Figure size 640x480 with 1 Axes>"
      ]
     },
     "metadata": {},
     "output_type": "display_data"
    }
   ],
   "source": [
    "plt.hist(df['idade'], bins=10, edgecolor='lightblue', color='darkblue')\n",
    "plt.xlabel('Idade')\n",
    "plt.ylabel('Frequência')\n",
    "plt.title('Histograma - Distribuição das Idades')\n",
    "plt.show()"
   ]
  },
  {
   "cell_type": "markdown",
   "metadata": {},
   "source": [
    "### **Criando Uma Coluna Região**"
   ]
  },
  {
   "cell_type": "code",
   "execution_count": 18,
   "metadata": {},
   "outputs": [],
   "source": [
    "#Criando uma lista com as regiões geográficas\n",
    "sul = ['RS', 'PR', 'SC']\n",
    "sudeste = ['SP', 'RJ', 'MG', 'ES']\n",
    "centro_oeste = ['GO', 'MS', 'MT', 'DF']\n",
    "nordeste = ['AL', 'BA', 'CE', 'MA','PB', 'PE', 'PI', 'RN', 'SE']\n",
    "norte = ['AC', 'AP', 'AM', 'PA', 'RO', 'RR', 'TO']"
   ]
  },
  {
   "cell_type": "code",
   "execution_count": 19,
   "metadata": {},
   "outputs": [],
   "source": [
    "def mapear_regiao(uf):\n",
    "    if uf in sudeste:\n",
    "        return 'Sudeste'\n",
    "    elif uf in sul:\n",
    "        return 'Sul'\n",
    "    elif uf in centro_oeste:\n",
    "        return 'Centro_Oeste'\n",
    "    elif uf in nordeste:\n",
    "        return 'Nordeste'\n",
    "    elif uf in norte:\n",
    "        return 'Norte'\n",
    "    \n",
    "df['regiao'] = df['uf'].apply(mapear_regiao)"
   ]
  },
  {
   "cell_type": "code",
   "execution_count": 20,
   "metadata": {},
   "outputs": [
    {
     "data": {
      "text/plain": [
       "array(['Norte', 'Sudeste', 'Sul', 'Nordeste', 'Centro_Oeste'],\n",
       "      dtype=object)"
      ]
     },
     "execution_count": 20,
     "metadata": {},
     "output_type": "execute_result"
    }
   ],
   "source": [
    "df['regiao'].unique()"
   ]
  },
  {
   "cell_type": "markdown",
   "metadata": {},
   "source": [
    "#### **Preenchendo Colunas Com Base Em Outras**"
   ]
  },
  {
   "cell_type": "markdown",
   "metadata": {},
   "source": [
    "*Coluna delegacia*"
   ]
  },
  {
   "cell_type": "code",
   "execution_count": 21,
   "metadata": {},
   "outputs": [],
   "source": [
    "def gerar_string_delegacia(uf):\n",
    "    return f'DEL-01 {uf}'\n",
    "\n",
    "df['delegacia'].fillna(df['uf'].apply(lambda x: gerar_string_delegacia(x)), inplace=True)"
   ]
  },
  {
   "cell_type": "markdown",
   "metadata": {},
   "source": [
    "*Coluna uop*"
   ]
  },
  {
   "cell_type": "code",
   "execution_count": 22,
   "metadata": {},
   "outputs": [],
   "source": [
    "def gerar_string_uop(delegacia):\n",
    "    return f'UOP-01 {delegacia}'\n",
    "\n",
    "df['uop'].fillna(df['delegacia'].apply(lambda x: gerar_string_uop(x)), inplace=True)"
   ]
  },
  {
   "cell_type": "markdown",
   "metadata": {},
   "source": [
    "#### **Corrigindo Formatação Defeituosa de dados**"
   ]
  },
  {
   "cell_type": "markdown",
   "metadata": {},
   "source": [
    "*Coluna marca* - possui valores mal formatados"
   ]
  },
  {
   "cell_type": "code",
   "execution_count": 26,
   "metadata": {},
   "outputs": [
    {
     "data": {
      "text/plain": [
       "0             FIAT/SIENA ATTRACTIV 1.4\n",
       "1             FIAT/SIENA ATTRACTIV 1.4\n",
       "2             FIAT/SIENA ATTRACTIV 1.4\n",
       "3             FIAT/SIENA ATTRACTIV 1.4\n",
       "4             FIAT/SIENA ATTRACTIV 1.4\n",
       "                      ...             \n",
       "1712883         JEEP/RENEGADE SPORT AT\n",
       "1712884              VOLVO/FH 460 6X2T\n",
       "1712885       FORD/ECOSPORT SE ATDT1.5\n",
       "1712886    Não se aplica/Não se aplica\n",
       "1712887             HONDA/HR-V EXL CVT\n",
       "Name: marca, Length: 1712888, dtype: object"
      ]
     },
     "execution_count": 26,
     "metadata": {},
     "output_type": "execute_result"
    }
   ],
   "source": [
    "#Verificando a formatação dos dados\n",
    "df['marca']"
   ]
  },
  {
   "cell_type": "code",
   "execution_count": 27,
   "metadata": {},
   "outputs": [],
   "source": [
    "def corrigir_repeticoes(valor):\n",
    "    partes = valor.split('/') \n",
    "    partes_unicas = []\n",
    "    for parte in partes:\n",
    "        if parte not in partes_unicas:  \n",
    "            partes_unicas.append(parte)\n",
    "    return '/'.join(partes_unicas)\n",
    "\n",
    "df['marca'] = df['marca'].apply(corrigir_repeticoes)"
   ]
  },
  {
   "cell_type": "code",
   "execution_count": 28,
   "metadata": {},
   "outputs": [],
   "source": [
    "def corrigir_valores(valor):\n",
    "    if valor.startswith('I/'):\n",
    "        return valor[2:]  \n",
    "    return valor\n",
    "\n",
    "df['marca'] = df['marca'].apply(corrigir_valores)"
   ]
  },
  {
   "cell_type": "markdown",
   "metadata": {},
   "source": [
    "*Verificando Alterações*"
   ]
  },
  {
   "cell_type": "code",
   "execution_count": 29,
   "metadata": {},
   "outputs": [
    {
     "data": {
      "text/plain": [
       "0     FIAT/SIENA ATTRACTIV 1.4\n",
       "1     FIAT/SIENA ATTRACTIV 1.4\n",
       "2     FIAT/SIENA ATTRACTIV 1.4\n",
       "3     FIAT/SIENA ATTRACTIV 1.4\n",
       "4     FIAT/SIENA ATTRACTIV 1.4\n",
       "5     FIAT/SIENA ATTRACTIV 1.4\n",
       "6     FIAT/SIENA ATTRACTIV 1.4\n",
       "7     FIAT/SIENA ATTRACTIV 1.4\n",
       "8     FIAT/SIENA ATTRACTIV 1.4\n",
       "9     FIAT/SIENA ATTRACTIV 1.4\n",
       "10               Não informado\n",
       "11               Não se aplica\n",
       "12               Não informado\n",
       "13               Não se aplica\n",
       "14    RENAULT/SANDERO EXP1016V\n",
       "15     VW/NOVA SAVEIRO RB MBVS\n",
       "16       HONDA/CG 150 TITAN ES\n",
       "17       HONDA/CG 150 TITAN ES\n",
       "18       HONDA/CG 150 TITAN ES\n",
       "19      CHEVROLET/CRUZE LTZ NB\n",
       "Name: marca, dtype: object"
      ]
     },
     "execution_count": 29,
     "metadata": {},
     "output_type": "execute_result"
    }
   ],
   "source": [
    "df['marca'][0:20]"
   ]
  },
  {
   "cell_type": "markdown",
   "metadata": {},
   "source": [
    "***Formatando a coluna município***"
   ]
  },
  {
   "cell_type": "code",
   "execution_count": 30,
   "metadata": {},
   "outputs": [],
   "source": [
    "def formatar_municipio(municipio):\n",
    "    return municipio.title()\n",
    "\n",
    "df['municipio'] = df['municipio'].apply(formatar_municipio)"
   ]
  },
  {
   "cell_type": "markdown",
   "metadata": {},
   "source": [
    "*Verificando os valores*"
   ]
  },
  {
   "cell_type": "code",
   "execution_count": 31,
   "metadata": {},
   "outputs": [
    {
     "data": {
      "text/plain": [
       "array(['Gurupi', 'Nova Iguacu', 'Sao Jose', 'Cacoal', 'Reboucas',\n",
       "       'Porto Velho', 'Barra Velha', 'Londrina', 'Uniao Dos Palmares',\n",
       "       'Porto Alegre', 'Ibirama', 'Xanxere', 'Abreu E Lima',\n",
       "       'Sao Pedro Da Cipa', 'Feira De Santana', 'Balneario Camboriu',\n",
       "       'Ferreira Gomes', 'Goiania', 'Brasilia', 'Pindamonhangaba'],\n",
       "      dtype=object)"
      ]
     },
     "execution_count": 31,
     "metadata": {},
     "output_type": "execute_result"
    }
   ],
   "source": [
    "df['municipio'].unique()[0:20]"
   ]
  },
  {
   "cell_type": "markdown",
   "metadata": {},
   "source": [
    "***Formatando colunas\"***"
   ]
  },
  {
   "cell_type": "code",
   "execution_count": null,
   "metadata": {},
   "outputs": [],
   "source": [
    "df['idade'].unique()"
   ]
  },
  {
   "cell_type": "code",
   "execution_count": 32,
   "metadata": {},
   "outputs": [],
   "source": [
    "def formatar_float(valor):\n",
    "    if valor != 'não informado':\n",
    "        return valor[:-2]\n",
    "    return valor\n",
    "\n",
    "df['br'] = df['br'].apply(formatar_float)\n",
    "df['ano_fabricacao_veiculo'] = df['ano_fabricacao_veiculo'].apply(formatar_float)"
   ]
  },
  {
   "cell_type": "code",
   "execution_count": 33,
   "metadata": {},
   "outputs": [],
   "source": [
    "df = df.astype({'idade': str}, errors='ignore')\n",
    "\n",
    "df['idade'] = df['idade'].apply(formatar_float)\n",
    "\n",
    "df = df.astype({'idade': int}, errors='ignore')"
   ]
  },
  {
   "cell_type": "markdown",
   "metadata": {},
   "source": [
    "***Verificando alterações***"
   ]
  },
  {
   "cell_type": "code",
   "execution_count": 34,
   "metadata": {},
   "outputs": [
    {
     "data": {
      "text/plain": [
       "array([ 33,  18,  20,  16,  17,  38,  50,  22,  30,  19,  37,  61,  47,\n",
       "        58,  60,  27,  29,  24,  21,  28,  52,  23,  51,  53,  46,  42,\n",
       "        25,  34,  32,   6,   8,  62,  40,  15,  26,  14,  31,  45,   7,\n",
       "        64,  54,  43,  57,  68,  35,  49,  67,  55,  36,  59,  41,  11,\n",
       "        39,  10,  48,  70,  56,  44,  63,   3,   2,  86,  13,  93,   4,\n",
       "        73,  71,  69,   5,  66,  65,  82,  92,  72,   9,  74,  77,  12,\n",
       "        81,  83,  84,  80,  78,   0,  87,   1,  79,  76,  75,  97,  85,\n",
       "        88,  91,  89,  99,  90,  95,  98,  94,  96, 100])"
      ]
     },
     "execution_count": 34,
     "metadata": {},
     "output_type": "execute_result"
    }
   ],
   "source": [
    "df['idade'].unique()"
   ]
  },
  {
   "cell_type": "markdown",
   "metadata": {},
   "source": [
    "***Coluna BR***"
   ]
  },
  {
   "cell_type": "code",
   "execution_count": 35,
   "metadata": {},
   "outputs": [
    {
     "data": {
      "text/plain": [
       "array(['153', '116', '101', '364', '319', '369', '104', '290', '470',\n",
       "       '282', '156', '60', '20', '324', '373', '407', '381', '316', '262',\n",
       "       '40', '376', '392', '163', '459', '277', '308', '10', '230', '222',\n",
       "       '232', '50', '356', '70', '493', '393', '365', '280', '408', '135',\n",
       "       '343', '158', '467', 'n', '361', '80', '414', '447', '242', '304',\n",
       "       '259', '251', '110', '386', '210', '367', '146', '235', '487',\n",
       "       '293', '174', '405', '465', '476', '226', '452', '330', '428',\n",
       "       '482', '420', '472', '480', '401', '354', '469', '406', '423',\n",
       "       '285', '424', '267', '427', '412', '471', '463', '429', '287',\n",
       "       '272', '155', '485', '415', '448', '418', '425', '317', '402',\n",
       "       '30', '468', '435', '419', '488', '421', '403', '359', '349',\n",
       "       '416', '410', '432', '495', '477', '122', '422', '434', '484',\n",
       "       '352', '426', '436', '265', '475', '433', '430', '437', '342',\n",
       "       '494', '498'], dtype=object)"
      ]
     },
     "execution_count": 35,
     "metadata": {},
     "output_type": "execute_result"
    }
   ],
   "source": [
    "df['br'].unique()"
   ]
  },
  {
   "cell_type": "code",
   "execution_count": 36,
   "metadata": {},
   "outputs": [
    {
     "data": {
      "text/html": [
       "<div>\n",
       "<style scoped>\n",
       "    .dataframe tbody tr th:only-of-type {\n",
       "        vertical-align: middle;\n",
       "    }\n",
       "\n",
       "    .dataframe tbody tr th {\n",
       "        vertical-align: top;\n",
       "    }\n",
       "\n",
       "    .dataframe thead th {\n",
       "        text-align: right;\n",
       "    }\n",
       "</style>\n",
       "<table border=\"1\" class=\"dataframe\">\n",
       "  <thead>\n",
       "    <tr style=\"text-align: right;\">\n",
       "      <th></th>\n",
       "      <th>id</th>\n",
       "      <th>data_inversa</th>\n",
       "      <th>dia_semana</th>\n",
       "      <th>horario</th>\n",
       "      <th>uf</th>\n",
       "      <th>br</th>\n",
       "      <th>km</th>\n",
       "      <th>municipio</th>\n",
       "      <th>causa_acidente</th>\n",
       "      <th>ordem_tipo_acidente</th>\n",
       "      <th>...</th>\n",
       "      <th>sexo</th>\n",
       "      <th>ilesos</th>\n",
       "      <th>feridos_leves</th>\n",
       "      <th>feridos_graves</th>\n",
       "      <th>mortos</th>\n",
       "      <th>latitude</th>\n",
       "      <th>longitude</th>\n",
       "      <th>delegacia</th>\n",
       "      <th>uop</th>\n",
       "      <th>regiao</th>\n",
       "    </tr>\n",
       "  </thead>\n",
       "  <tbody>\n",
       "    <tr>\n",
       "      <th>559</th>\n",
       "      <td>260202.0</td>\n",
       "      <td>2020-01-01</td>\n",
       "      <td>quarta-feira</td>\n",
       "      <td>15:55:00</td>\n",
       "      <td>MG</td>\n",
       "      <td>n</td>\n",
       "      <td>Não informado</td>\n",
       "      <td>Sabara</td>\n",
       "      <td>Defeito Mecânico no Veículo</td>\n",
       "      <td>1</td>\n",
       "      <td>...</td>\n",
       "      <td>Masculino</td>\n",
       "      <td>0</td>\n",
       "      <td>1</td>\n",
       "      <td>0</td>\n",
       "      <td>0</td>\n",
       "      <td>-19,78607788</td>\n",
       "      <td>-43,71630549</td>\n",
       "      <td>DEL01-MG</td>\n",
       "      <td>UOP01-DEL01-MG</td>\n",
       "      <td>Sudeste</td>\n",
       "    </tr>\n",
       "    <tr>\n",
       "      <th>4491</th>\n",
       "      <td>261027.0</td>\n",
       "      <td>2020-01-05</td>\n",
       "      <td>domingo</td>\n",
       "      <td>15:30:00</td>\n",
       "      <td>RJ</td>\n",
       "      <td>n</td>\n",
       "      <td>Não informado</td>\n",
       "      <td>Rio De Janeiro</td>\n",
       "      <td>Velocidade Incompatível</td>\n",
       "      <td>1</td>\n",
       "      <td>...</td>\n",
       "      <td>Masculino</td>\n",
       "      <td>1</td>\n",
       "      <td>0</td>\n",
       "      <td>0</td>\n",
       "      <td>0</td>\n",
       "      <td>-22,8042662</td>\n",
       "      <td>-43,3391125</td>\n",
       "      <td>DEL01-RJ</td>\n",
       "      <td>UOP02-DEL01-RJ</td>\n",
       "      <td>Sudeste</td>\n",
       "    </tr>\n",
       "    <tr>\n",
       "      <th>4492</th>\n",
       "      <td>261027.0</td>\n",
       "      <td>2020-01-05</td>\n",
       "      <td>domingo</td>\n",
       "      <td>15:30:00</td>\n",
       "      <td>RJ</td>\n",
       "      <td>n</td>\n",
       "      <td>Não informado</td>\n",
       "      <td>Rio De Janeiro</td>\n",
       "      <td>Velocidade Incompatível</td>\n",
       "      <td>1</td>\n",
       "      <td>...</td>\n",
       "      <td>Masculino</td>\n",
       "      <td>1</td>\n",
       "      <td>0</td>\n",
       "      <td>0</td>\n",
       "      <td>0</td>\n",
       "      <td>-22,8042662</td>\n",
       "      <td>-43,3391125</td>\n",
       "      <td>DEL01-RJ</td>\n",
       "      <td>UOP02-DEL01-RJ</td>\n",
       "      <td>Sudeste</td>\n",
       "    </tr>\n",
       "    <tr>\n",
       "      <th>4493</th>\n",
       "      <td>261027.0</td>\n",
       "      <td>2020-01-05</td>\n",
       "      <td>domingo</td>\n",
       "      <td>15:30:00</td>\n",
       "      <td>RJ</td>\n",
       "      <td>n</td>\n",
       "      <td>Não informado</td>\n",
       "      <td>Rio De Janeiro</td>\n",
       "      <td>Velocidade Incompatível</td>\n",
       "      <td>1</td>\n",
       "      <td>...</td>\n",
       "      <td>Masculino</td>\n",
       "      <td>1</td>\n",
       "      <td>0</td>\n",
       "      <td>0</td>\n",
       "      <td>0</td>\n",
       "      <td>-22,8042662</td>\n",
       "      <td>-43,3391125</td>\n",
       "      <td>DEL01-RJ</td>\n",
       "      <td>UOP02-DEL01-RJ</td>\n",
       "      <td>Sudeste</td>\n",
       "    </tr>\n",
       "    <tr>\n",
       "      <th>6402</th>\n",
       "      <td>261493.0</td>\n",
       "      <td>2020-01-08</td>\n",
       "      <td>quarta-feira</td>\n",
       "      <td>04:30:00</td>\n",
       "      <td>MT</td>\n",
       "      <td>n</td>\n",
       "      <td>Não informado</td>\n",
       "      <td>Santo Antonio Do Leverger</td>\n",
       "      <td>Falta de Atenção à Condução</td>\n",
       "      <td>1</td>\n",
       "      <td>...</td>\n",
       "      <td>Masculino</td>\n",
       "      <td>1</td>\n",
       "      <td>0</td>\n",
       "      <td>0</td>\n",
       "      <td>0</td>\n",
       "      <td>-15,70200126</td>\n",
       "      <td>-55,827522</td>\n",
       "      <td>DEL02-MT</td>\n",
       "      <td>UOP02-DEL01-MT</td>\n",
       "      <td>Centro_Oeste</td>\n",
       "    </tr>\n",
       "  </tbody>\n",
       "</table>\n",
       "<p>5 rows × 34 columns</p>\n",
       "</div>"
      ],
      "text/plain": [
       "            id data_inversa    dia_semana   horario  uf br             km  \\\n",
       "559   260202.0   2020-01-01  quarta-feira  15:55:00  MG  n  Não informado   \n",
       "4491  261027.0   2020-01-05       domingo  15:30:00  RJ  n  Não informado   \n",
       "4492  261027.0   2020-01-05       domingo  15:30:00  RJ  n  Não informado   \n",
       "4493  261027.0   2020-01-05       domingo  15:30:00  RJ  n  Não informado   \n",
       "6402  261493.0   2020-01-08  quarta-feira  04:30:00  MT  n  Não informado   \n",
       "\n",
       "                      municipio               causa_acidente  \\\n",
       "559                      Sabara  Defeito Mecânico no Veículo   \n",
       "4491             Rio De Janeiro      Velocidade Incompatível   \n",
       "4492             Rio De Janeiro      Velocidade Incompatível   \n",
       "4493             Rio De Janeiro      Velocidade Incompatível   \n",
       "6402  Santo Antonio Do Leverger  Falta de Atenção à Condução   \n",
       "\n",
       "      ordem_tipo_acidente  ...       sexo ilesos feridos_leves feridos_graves  \\\n",
       "559                     1  ...  Masculino      0             1              0   \n",
       "4491                    1  ...  Masculino      1             0              0   \n",
       "4492                    1  ...  Masculino      1             0              0   \n",
       "4493                    1  ...  Masculino      1             0              0   \n",
       "6402                    1  ...  Masculino      1             0              0   \n",
       "\n",
       "     mortos      latitude     longitude delegacia             uop  \\\n",
       "559       0  -19,78607788  -43,71630549  DEL01-MG  UOP01-DEL01-MG   \n",
       "4491      0   -22,8042662   -43,3391125  DEL01-RJ  UOP02-DEL01-RJ   \n",
       "4492      0   -22,8042662   -43,3391125  DEL01-RJ  UOP02-DEL01-RJ   \n",
       "4493      0   -22,8042662   -43,3391125  DEL01-RJ  UOP02-DEL01-RJ   \n",
       "6402      0  -15,70200126    -55,827522  DEL02-MT  UOP02-DEL01-MT   \n",
       "\n",
       "            regiao  \n",
       "559        Sudeste  \n",
       "4491       Sudeste  \n",
       "4492       Sudeste  \n",
       "4493       Sudeste  \n",
       "6402  Centro_Oeste  \n",
       "\n",
       "[5 rows x 34 columns]"
      ]
     },
     "execution_count": 36,
     "metadata": {},
     "output_type": "execute_result"
    }
   ],
   "source": [
    "df.loc[df['br'] == 'n'][:5]"
   ]
  },
  {
   "cell_type": "markdown",
   "metadata": {},
   "source": [
    "***Coluna Ano de fabricação***"
   ]
  },
  {
   "cell_type": "code",
   "execution_count": 37,
   "metadata": {},
   "outputs": [
    {
     "data": {
      "text/plain": [
       "array(['2012', 'n', '0', '2010', '2019', '2009', '2015', '2017', '2007',\n",
       "       '2008', '1997', '2013', '2011', '1988', '2006', '1999', '2016',\n",
       "       '2005', '2004', '2018', '1989', '2003', '2001', '2002', '2014',\n",
       "       '1993', '1994', '1998', '2000', '1990', '1991', '1996', '1982',\n",
       "       '1995', '1973', '1992', '1985', '1968', '1978', '1977', '1987',\n",
       "       '1900', '1976', '1983', '1980', '1986', '1975', '1967', '1984',\n",
       "       '1972', '1979', '1966', '1963', '1974', '1981', '1969', '1971',\n",
       "       '1970', '2020', '1962', '1959', '1965', '1961', '1958', '2021',\n",
       "       '1964', '1960', '2022', '1929', '1946', '2023', '1955'],\n",
       "      dtype=object)"
      ]
     },
     "execution_count": 37,
     "metadata": {},
     "output_type": "execute_result"
    }
   ],
   "source": [
    "df['ano_fabricacao_veiculo'].unique()"
   ]
  },
  {
   "cell_type": "markdown",
   "metadata": {},
   "source": [
    "#### ***Corrigindo a coluna BR e Ano de Fabricação***"
   ]
  },
  {
   "cell_type": "code",
   "execution_count": null,
   "metadata": {},
   "outputs": [],
   "source": [
    "df['br'] = df['br'].replace('n', 'Não informado')\n",
    "\n",
    "df['ano_fabricacao_veiculo'] = df['ano_fabricacao_veiculo'].replace(['n', '0'], 'Não informado')"
   ]
  },
  {
   "cell_type": "markdown",
   "metadata": {},
   "source": [
    "*Visualizando*"
   ]
  },
  {
   "cell_type": "code",
   "execution_count": 38,
   "metadata": {},
   "outputs": [
    {
     "name": "stdout",
     "output_type": "stream",
     "text": [
      "Quantidade de valores \"Não informado\" | BR:  0 | Ano de Fabricação:  0\n"
     ]
    }
   ],
   "source": [
    "print('Quantidade de valores \"Não informado\" | BR: ', df.loc[df['br'] == 'Não informado', 'br'].count(), end='')\n",
    "print(' | Ano de Fabricação: ', df.loc[df['ano_fabricacao_veiculo'] == 'Não informado', 'br'].count())"
   ]
  },
  {
   "cell_type": "markdown",
   "metadata": {},
   "source": [
    "#### **Substituindo os valores da coluna \"uso_solo\"**"
   ]
  },
  {
   "cell_type": "markdown",
   "metadata": {},
   "source": [
    "*Com base no dicionário dos dados* - [link](https://drive.google.com/file/d/11xcaEgl1hpyfl2hnlFaa0MsxERd6uaKF/view)"
   ]
  },
  {
   "cell_type": "code",
   "execution_count": 39,
   "metadata": {},
   "outputs": [],
   "source": [
    "def renomear_uso_solo(uso_solo):\n",
    "    if uso_solo == \"Não\":\n",
    "        return 'Rural'\n",
    "    return 'Urbano'\n",
    "\n",
    "df['uso_solo'] = df['uso_solo'].apply(renomear_uso_solo)"
   ]
  },
  {
   "cell_type": "markdown",
   "metadata": {},
   "source": [
    "*Visualizando*"
   ]
  },
  {
   "cell_type": "code",
   "execution_count": 40,
   "metadata": {},
   "outputs": [
    {
     "data": {
      "text/plain": [
       "array(['Rural', 'Urbano'], dtype=object)"
      ]
     },
     "execution_count": 40,
     "metadata": {},
     "output_type": "execute_result"
    }
   ],
   "source": [
    "df['uso_solo'].unique()"
   ]
  },
  {
   "cell_type": "markdown",
   "metadata": {},
   "source": [
    "##### ***Substituindo a \",\" por \".\"***"
   ]
  },
  {
   "cell_type": "code",
   "execution_count": 41,
   "metadata": {},
   "outputs": [],
   "source": [
    "def virgula_por_ponto(df, colunas):\n",
    "    for coluna in colunas:\n",
    "        df[coluna] = df[coluna].str.replace(',', '.')"
   ]
  },
  {
   "cell_type": "code",
   "execution_count": 42,
   "metadata": {},
   "outputs": [],
   "source": [
    "virgula_por_ponto(df, ['latitude', 'longitude', 'km'])"
   ]
  },
  {
   "cell_type": "markdown",
   "metadata": {},
   "source": [
    "*Visualizando*"
   ]
  },
  {
   "cell_type": "code",
   "execution_count": 43,
   "metadata": {},
   "outputs": [
    {
     "name": "stdout",
     "output_type": "stream",
     "text": [
      "Km ['678.1' '178' '206.9' '236' '360' '64' '89.9' '155' '37' '97']\n",
      "Latitude ['-11.77460203' '-22.75223028' '-27.59193546' '-11.44624577']\n",
      "Longitude ['-49.10744996' '-43.4379103' '-48.61824557' '-61.43761218']\n"
     ]
    }
   ],
   "source": [
    "print('Km', df['km'].unique()[0:10])\n",
    "print('Latitude', df['latitude'].unique()[0:4])\n",
    "print('Longitude', df['longitude'].unique()[0:4])"
   ]
  },
  {
   "cell_type": "code",
   "execution_count": 44,
   "metadata": {},
   "outputs": [
    {
     "data": {
      "text/plain": [
       "id                                        260031.0\n",
       "data_inversa                            2020-01-01\n",
       "dia_semana                            quarta-feira\n",
       "horario                                   01:00:00\n",
       "uf                                              TO\n",
       "br                                             153\n",
       "km                                           678.1\n",
       "municipio                                   Gurupi\n",
       "causa_acidente                    Animais na Pista\n",
       "ordem_tipo_acidente                              1\n",
       "tipo_acidente              Atropelamento de Animal\n",
       "classificacao_acidente         Com Vítimas Feridas\n",
       "fase_dia                               Plena Noite\n",
       "sentido_via                              Crescente\n",
       "condicao_metereologica                     Nublado\n",
       "tipo_pista                                 Simples\n",
       "tracado_via                                   Reta\n",
       "uso_solo                                     Rural\n",
       "tipo_veiculo                             Automóvel\n",
       "marca                     FIAT/SIENA ATTRACTIV 1.4\n",
       "ano_fabricacao_veiculo                        2012\n",
       "tipo_envolvido                            Condutor\n",
       "estado_fisico                        Lesões Graves\n",
       "idade                                           33\n",
       "sexo                                      Feminino\n",
       "ilesos                                           0\n",
       "feridos_leves                                    0\n",
       "feridos_graves                                   1\n",
       "mortos                                           0\n",
       "latitude                              -11.77460203\n",
       "longitude                             -49.10744996\n",
       "delegacia                                 DEL02-TO\n",
       "uop                                 UOP02-DEL01-TO\n",
       "regiao                                       Norte\n",
       "Name: 0, dtype: object"
      ]
     },
     "execution_count": 44,
     "metadata": {},
     "output_type": "execute_result"
    }
   ],
   "source": [
    "df.loc[0]"
   ]
  },
  {
   "cell_type": "markdown",
   "metadata": {},
   "source": [
    "**Importando para um Banco de dados local**"
   ]
  },
  {
   "cell_type": "code",
   "execution_count": null,
   "metadata": {},
   "outputs": [],
   "source": [
    "conn = mysql.connector.connect(\n",
    "    host='localhost',\n",
    "    user='root',\n",
    "    password='admin',\n",
    "    database='dados_prf'\n",
    ")"
   ]
  },
  {
   "cell_type": "code",
   "execution_count": null,
   "metadata": {},
   "outputs": [
    {
     "data": {
      "text/plain": [
       "'table_name = \\'acidentes_rodovias_prf\\'\\n\\ncursor = conn.cursor()\\n\\ncreate_table_query = f\"\"\"\\nCREATE TABLE IF NOT EXISTS {table_name} (\\n    id INT,\\n    data_inversa VARCHAR(10),\\n    dia_semana VARCHAR(20),\\n    horario VARCHAR(10),\\n    uf VARCHAR(2),\\n    br VARCHAR(10),\\n    km VARCHAR(20),\\n    municipio VARCHAR(100),\\n    causa_acidente VARCHAR(100),\\n    ordem_tipo_acidente INT,\\n    tipo_acidente VARCHAR(100),\\n    classificacao_acidente VARCHAR(100),\\n    fase_dia VARCHAR(50),\\n    sentido_via VARCHAR(50),\\n    condicao_metereologica VARCHAR(50),\\n    tipo_pista VARCHAR(50),\\n    tracado_via VARCHAR(50),\\n    uso_solo VARCHAR(50),\\n    tipo_veiculo VARCHAR(50),\\n    marca VARCHAR(100),\\n    ano_fabricacao_veiculo VARCHAR(20),\\n    tipo_envolvido VARCHAR(50),\\n    estado_fisico VARCHAR(50),\\n    idade INT,\\n    sexo VARCHAR(15),\\n    ilesos INT,\\n    feridos_leves INT,\\n    feridos_graves INT,\\n    mortos INT,\\n    latitude VARCHAR(100),\\n    longitude VARCHAR(100),\\n    delegacia VARCHAR(100),\\n    uop VARCHAR(100),\\n    regiao VARCHAR(100)\\n)\\n\"\"\"\\n\\ncursor.execute(create_table_query)\\n\\nfor index, row in df.iterrows():\\n    sql = f\"INSERT INTO {table_name} VALUES ({\\', \\'.join([\\'%s\\'] * len(row))})\"\\n    values = tuple(row)\\n    cursor.execute(sql, values)\\n\\nconn.commit()\\nconn.close()'"
      ]
     },
     "execution_count": 97,
     "metadata": {},
     "output_type": "execute_result"
    }
   ],
   "source": [
    "'''table_name = 'acidentes_rodovias_prf'\n",
    "\n",
    "cursor = conn.cursor()\n",
    "\n",
    "create_table_query = f\"\"\"\n",
    "CREATE TABLE IF NOT EXISTS {table_name} (\n",
    "    id INT,\n",
    "    data_inversa VARCHAR(10),\n",
    "    dia_semana VARCHAR(20),\n",
    "    horario VARCHAR(10),\n",
    "    uf VARCHAR(2),\n",
    "    br VARCHAR(10),\n",
    "    km VARCHAR(20),\n",
    "    municipio VARCHAR(100),\n",
    "    causa_acidente VARCHAR(100),\n",
    "    ordem_tipo_acidente INT,\n",
    "    tipo_acidente VARCHAR(100),\n",
    "    classificacao_acidente VARCHAR(100),\n",
    "    fase_dia VARCHAR(50),\n",
    "    sentido_via VARCHAR(50),\n",
    "    condicao_metereologica VARCHAR(50),\n",
    "    tipo_pista VARCHAR(50),\n",
    "    tracado_via VARCHAR(50),\n",
    "    uso_solo VARCHAR(50),\n",
    "    tipo_veiculo VARCHAR(50),\n",
    "    marca VARCHAR(100),\n",
    "    ano_fabricacao_veiculo VARCHAR(20),\n",
    "    tipo_envolvido VARCHAR(50),\n",
    "    estado_fisico VARCHAR(50),\n",
    "    idade INT,\n",
    "    sexo VARCHAR(15),\n",
    "    ilesos INT,\n",
    "    feridos_leves INT,\n",
    "    feridos_graves INT,\n",
    "    mortos INT,\n",
    "    latitude VARCHAR(100),\n",
    "    longitude VARCHAR(100),\n",
    "    delegacia VARCHAR(100),\n",
    "    uop VARCHAR(100),\n",
    "    regiao VARCHAR(100)\n",
    ")\n",
    "\"\"\"\n",
    "\n",
    "cursor.execute(create_table_query)\n",
    "\n",
    "for index, row in df.iterrows():\n",
    "    sql = f\"INSERT INTO {table_name} VALUES ({', '.join(['%s'] * len(row))})\"\n",
    "    values = tuple(row)\n",
    "    cursor.execute(sql, values)\n",
    "\n",
    "conn.commit()\n",
    "conn.close()'''"
   ]
  },
  {
   "cell_type": "code",
   "execution_count": 45,
   "metadata": {},
   "outputs": [],
   "source": [
    "colunas_para_somar = ['mortos', 'feridos_leves', 'feridos_graves', 'ilesos']"
   ]
  },
  {
   "cell_type": "code",
   "execution_count": 46,
   "metadata": {},
   "outputs": [],
   "source": [
    "df_simplificado = df.groupby('id').agg({\n",
    "    **{col: 'sum' for col in colunas_para_somar},\n",
    "    **{col: 'first' for col in df.columns if col != 'id' and col not in colunas_para_somar} \n",
    "}).reset_index()"
   ]
  },
  {
   "cell_type": "code",
   "execution_count": 47,
   "metadata": {},
   "outputs": [],
   "source": [
    "df_simplificado.drop(['ordem_tipo_acidente', 'tipo_envolvido', 'estado_fisico', 'idade', 'sexo'], axis=1, inplace=True)"
   ]
  },
  {
   "cell_type": "code",
   "execution_count": 48,
   "metadata": {},
   "outputs": [
    {
     "data": {
      "text/plain": [
       "id                                           260044.0\n",
       "mortos                                              0\n",
       "feridos_leves                                       2\n",
       "feridos_graves                                      0\n",
       "ilesos                                              0\n",
       "data_inversa                               2020-01-01\n",
       "dia_semana                               quarta-feira\n",
       "horario                                      00:20:00\n",
       "uf                                                 RS\n",
       "br                                                290\n",
       "km                                                 97\n",
       "municipio                                Porto Alegre\n",
       "causa_acidente            Falta de Atenção à Condução\n",
       "tipo_acidente                              Tombamento\n",
       "classificacao_acidente            Com Vítimas Feridas\n",
       "fase_dia                                  Plena Noite\n",
       "sentido_via                               Decrescente\n",
       "condicao_metereologica                      Céu Claro\n",
       "tipo_pista                                      Dupla\n",
       "tracado_via                                      Reta\n",
       "uso_solo                                        Rural\n",
       "tipo_veiculo                              Motocicleta\n",
       "marca                            HONDA/CBX 200 STRADA\n",
       "ano_fabricacao_veiculo                           1997\n",
       "latitude                                   -29.997789\n",
       "longitude                                   -51.20779\n",
       "delegacia                                    DEL01-RS\n",
       "uop                                    UOP01-DEL01-RS\n",
       "regiao                                            Sul\n",
       "Name: 9, dtype: object"
      ]
     },
     "execution_count": 48,
     "metadata": {},
     "output_type": "execute_result"
    }
   ],
   "source": [
    "df_simplificado.loc[9]"
   ]
  },
  {
   "cell_type": "code",
   "execution_count": 49,
   "metadata": {},
   "outputs": [],
   "source": [
    "colunas_desejadas = ['id', 'sexo', 'regiao', 'uf', 'municipio', 'condicao_metereologica', 'fase_dia', 'tipo_veiculo', 'mortos']\n",
    "df = df.loc[:, colunas_desejadas]"
   ]
  },
  {
   "cell_type": "markdown",
   "metadata": {},
   "source": [
    " **Dividindo os dfs**"
   ]
  },
  {
   "cell_type": "code",
   "execution_count": 58,
   "metadata": {},
   "outputs": [],
   "source": [
    "meio_indice = len(df_simplificado) // 2\n",
    "\n",
    "metade1 = df_simplificado.iloc[:meio_indice].reset_index(drop=True)\n",
    "metade2 = df_simplificado.iloc[meio_indice:].reset_index(drop=True)\n",
    "\n",
    "metade1.to_csv(\"Dados_prf_simplificado_parte1.txt\")\n",
    "metade2.to_csv(\"Dados_prf_simplificado_parte2.txt\")"
   ]
  },
  {
   "cell_type": "code",
   "execution_count": 59,
   "metadata": {},
   "outputs": [],
   "source": [
    "meio_indice = len(df) // 2\n",
    "\n",
    "metade1 = df.iloc[:meio_indice].reset_index(drop=True)\n",
    "metade2 = df.iloc[meio_indice:].reset_index(drop=True)\n",
    "\n",
    "metade1.to_csv(\"Dados_sexo_parte1.txt\")\n",
    "metade2.to_csv(\"Dados_sexo_parte2.txt\")"
   ]
  }
 ],
 "metadata": {
  "kernelspec": {
   "display_name": "Python 3",
   "language": "python",
   "name": "python3"
  },
  "language_info": {
   "codemirror_mode": {
    "name": "ipython",
    "version": 3
   },
   "file_extension": ".py",
   "mimetype": "text/x-python",
   "name": "python",
   "nbconvert_exporter": "python",
   "pygments_lexer": "ipython3",
   "version": "3.11.7"
  }
 },
 "nbformat": 4,
 "nbformat_minor": 2
}
