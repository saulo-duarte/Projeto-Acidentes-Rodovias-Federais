{
 "cells": [
  {
   "cell_type": "code",
   "execution_count": 16,
   "metadata": {},
   "outputs": [],
   "source": [
    "import os\n",
    "\n",
    "import pandas as pd\n",
    "import numpy as np\n",
    "from sqlalchemy import create_engine\n",
    "from dotenv import load_dotenv\n",
    "from sklearn.model_selection import train_test_split\n",
    "from sklearn.ensemble import RandomForestClassifier\n",
    "from sklearn.metrics import accuracy_score, classification_report\n",
    "from sklearn.preprocessing import StandardScaler\n",
    "from sklearn.pipeline import Pipeline\n",
    "from sklearn.model_selection import GridSearchCV\n",
    "from sklearn.preprocessing import OneHotEncoder\n",
    "from sklearn.compose import ColumnTransformer\n",
    "from sklearn.model_selection import RandomizedSearchCV"
   ]
  },
  {
   "cell_type": "code",
   "execution_count": 17,
   "metadata": {},
   "outputs": [],
   "source": [
    "load_dotenv()\n",
    "def load_data():\n",
    "    DB_USER = os.getenv(\"POSTGRES_USER\")\n",
    "    DB_PASSWORD = os.getenv(\"POSTGRES_PASSWORD\")\n",
    "    DB_HOST = os.getenv(\"POSTGRES_HOST\")\n",
    "    DB_PORT = os.getenv(\"POSTGRES_PORT\")\n",
    "    DB_NAME = os.getenv(\"POSTGRES_DB\") \n",
    "\n",
    "    connection_str = f'postgresql://{DB_USER}:{DB_PASSWORD}@{DB_HOST}:{DB_PORT}/{DB_NAME}'\n",
    "    engine = create_engine(connection_str)\n",
    "\n",
    "    query = \"\"\"\n",
    "    SELECT\n",
    "        acidentes.id, \n",
    "        classificacao_acidente,\n",
    "        regiao,\n",
    "        tipo_acidente,\n",
    "        causa_acidente,\n",
    "        DATE_PART('HOUR', data_completa) AS hora,\n",
    "        uso_solo,\n",
    "        br,\n",
    "        tipo_veiculo\n",
    "    FROM relational.acidentes\n",
    "    INNER JOIN relational.envolvidos ON acidentes.id = envolvidos.id_acidente\"\"\"\n",
    "\n",
    "    df_query = pd.read_sql(query, con=engine)\n",
    "    return df_query\n",
    "\n",
    "df = load_data()"
   ]
  },
  {
   "cell_type": "code",
   "execution_count": 18,
   "metadata": {},
   "outputs": [
    {
     "data": {
      "text/plain": [
       "(662962, 9)"
      ]
     },
     "execution_count": 18,
     "metadata": {},
     "output_type": "execute_result"
    }
   ],
   "source": [
    "df.shape"
   ]
  },
  {
   "cell_type": "code",
   "execution_count": 19,
   "metadata": {},
   "outputs": [],
   "source": [
    "df.drop_duplicates(subset='id', keep='first', inplace=True)\n",
    "df.drop(columns=['id'], inplace=True)"
   ]
  },
  {
   "cell_type": "code",
   "execution_count": 20,
   "metadata": {},
   "outputs": [
    {
     "data": {
      "text/html": [
       "<div>\n",
       "<style scoped>\n",
       "    .dataframe tbody tr th:only-of-type {\n",
       "        vertical-align: middle;\n",
       "    }\n",
       "\n",
       "    .dataframe tbody tr th {\n",
       "        vertical-align: top;\n",
       "    }\n",
       "\n",
       "    .dataframe thead th {\n",
       "        text-align: right;\n",
       "    }\n",
       "</style>\n",
       "<table border=\"1\" class=\"dataframe\">\n",
       "  <thead>\n",
       "    <tr style=\"text-align: right;\">\n",
       "      <th></th>\n",
       "      <th>classificacao_acidente</th>\n",
       "      <th>regiao</th>\n",
       "      <th>tipo_acidente</th>\n",
       "      <th>causa_acidente</th>\n",
       "      <th>hora</th>\n",
       "      <th>uso_solo</th>\n",
       "      <th>br</th>\n",
       "      <th>tipo_veiculo</th>\n",
       "    </tr>\n",
       "  </thead>\n",
       "  <tbody>\n",
       "    <tr>\n",
       "      <th>0</th>\n",
       "      <td>Sem Vítimas</td>\n",
       "      <td>Norte</td>\n",
       "      <td>Colisão transversal</td>\n",
       "      <td>Ingestão de Álcool</td>\n",
       "      <td>0.0</td>\n",
       "      <td>Urbano</td>\n",
       "      <td>BR-319</td>\n",
       "      <td>Automóvel</td>\n",
       "    </tr>\n",
       "    <tr>\n",
       "      <th>2</th>\n",
       "      <td>Com Vítimas Feridas</td>\n",
       "      <td>Sul</td>\n",
       "      <td>Colisão frontal</td>\n",
       "      <td>Condutor Dormindo</td>\n",
       "      <td>2.0</td>\n",
       "      <td>Urbano</td>\n",
       "      <td>BR-470</td>\n",
       "      <td>Automóvel</td>\n",
       "    </tr>\n",
       "    <tr>\n",
       "      <th>6</th>\n",
       "      <td>Sem Vítimas</td>\n",
       "      <td>Sul</td>\n",
       "      <td>Colisão lateral</td>\n",
       "      <td>Ingestão de Álcool</td>\n",
       "      <td>3.0</td>\n",
       "      <td>Rural</td>\n",
       "      <td>BR-101</td>\n",
       "      <td>Automóvel</td>\n",
       "    </tr>\n",
       "    <tr>\n",
       "      <th>12</th>\n",
       "      <td>Com Vítimas Feridas</td>\n",
       "      <td>Norte</td>\n",
       "      <td>Saída de leito carroçável</td>\n",
       "      <td>Falta de Atenção à Condução</td>\n",
       "      <td>5.0</td>\n",
       "      <td>Rural</td>\n",
       "      <td>BR-316</td>\n",
       "      <td>Caminhão</td>\n",
       "    </tr>\n",
       "    <tr>\n",
       "      <th>14</th>\n",
       "      <td>Com Vítimas Feridas</td>\n",
       "      <td>Centro-Oeste</td>\n",
       "      <td>Saída de leito carroçável</td>\n",
       "      <td>Ingestão de Álcool</td>\n",
       "      <td>6.0</td>\n",
       "      <td>Rural</td>\n",
       "      <td>BR-153</td>\n",
       "      <td>Automóvel</td>\n",
       "    </tr>\n",
       "  </tbody>\n",
       "</table>\n",
       "</div>"
      ],
      "text/plain": [
       "   classificacao_acidente        regiao              tipo_acidente  \\\n",
       "0             Sem Vítimas         Norte        Colisão transversal   \n",
       "2     Com Vítimas Feridas           Sul            Colisão frontal   \n",
       "6             Sem Vítimas           Sul            Colisão lateral   \n",
       "12    Com Vítimas Feridas         Norte  Saída de leito carroçável   \n",
       "14    Com Vítimas Feridas  Centro-Oeste  Saída de leito carroçável   \n",
       "\n",
       "                 causa_acidente  hora uso_solo      br tipo_veiculo  \n",
       "0            Ingestão de Álcool   0.0   Urbano  BR-319    Automóvel  \n",
       "2             Condutor Dormindo   2.0   Urbano  BR-470    Automóvel  \n",
       "6            Ingestão de Álcool   3.0    Rural  BR-101    Automóvel  \n",
       "12  Falta de Atenção à Condução   5.0    Rural  BR-316     Caminhão  \n",
       "14           Ingestão de Álcool   6.0    Rural  BR-153    Automóvel  "
      ]
     },
     "execution_count": 20,
     "metadata": {},
     "output_type": "execute_result"
    }
   ],
   "source": [
    "df.head()"
   ]
  },
  {
   "cell_type": "code",
   "execution_count": 21,
   "metadata": {},
   "outputs": [
    {
     "data": {
      "text/plain": [
       "causa_acidente\n",
       "Reação tardia ou ineficiente do condutor                     25035\n",
       "Velocidade Incompatível                                      23995\n",
       "Falta de Atenção à Condução                                  22478\n",
       "Ausência de reação do condutor                               22108\n",
       "Acessar a via sem observar a presença dos outros veículos    15424\n",
       "Condutor deixou de manter distância do veículo da frente     13389\n",
       "Ingestão de álcool pelo condutor                             12261\n",
       "Manobra de mudança de faixa                                  10409\n",
       "Condutor Dormindo                                             8795\n",
       "Desobediência às normas de trânsito pelo condutor             8344\n",
       "Demais falhas mecânicas ou elétricas                          8230\n",
       "Ultrapassagem Indevida                                        5416\n",
       "Transitar na contramão                                        5110\n",
       "Avarias e/ou desgaste excessivo no pneu                       4828\n",
       "Animais na Pista                                              4697\n",
       "Ingestão de Álcool                                            4662\n",
       "Chuva                                                         4659\n",
       "Pista Escorregadia                                            4318\n",
       "Desrespeitar a preferência no cruzamento                      4307\n",
       "Defeito Mecânico no Veículo                                   3680\n",
       "Não guardar distância de segurança                            3587\n",
       "Trafegar com motocicleta (ou similar) entre as faixas         2715\n",
       "Conversão proibida                                            2315\n",
       "Name: count, dtype: int64"
      ]
     },
     "execution_count": 21,
     "metadata": {},
     "output_type": "execute_result"
    }
   ],
   "source": [
    "causas_comuns = df['causa_acidente'].value_counts()[df['causa_acidente'].value_counts() > 2000].index\n",
    "df = df[df['causa_acidente'].isin(causas_comuns)]\n",
    "df['causa_acidente'].value_counts()"
   ]
  },
  {
   "cell_type": "code",
   "execution_count": 22,
   "metadata": {},
   "outputs": [],
   "source": [
    "df.loc[df['causa_acidente'] == 'Ausência de reação do condutor', 'causa_acidente'] = 'Reação tardia ou ineficiente do condutor'\n",
    "df.loc[df['causa_acidente'] == 'Ingestão de álcool pelo condutor', 'causa_acidente'] = 'Ingestão de Álcool'\n",
    "df.loc[df['causa_acidente'] == 'Demais falhas mecânicas ou elétricas', 'causa_acidente'] = 'Defeito Mecânico no Veículo'"
   ]
  },
  {
   "cell_type": "code",
   "execution_count": 23,
   "metadata": {},
   "outputs": [],
   "source": [
    "# One hot encoding\n",
    "\n",
    "X = df.drop(columns=['classificacao_acidente'])\n",
    "y = df['classificacao_acidente']\n",
    "\n",
    "X_train, X_test, y_train, y_test = train_test_split(X, y, test_size=0.2, random_state=42)\n",
    "\n",
    "categorical_features = ['regiao', 'tipo_acidente', 'causa_acidente', 'uso_solo', 'tipo_veiculo', 'br']\n",
    "numerical_features = ['hora']\n",
    "\n",
    "preprocessor = ColumnTransformer(\n",
    "    transformers=[\n",
    "        ('num', StandardScaler(), numerical_features),\n",
    "        ('cat', OneHotEncoder(handle_unknown='ignore'), categorical_features)\n",
    "    ])\n",
    "\n",
    "pipeline = Pipeline(steps=[('preprocessor', preprocessor),\n",
    "                           ('classifier', RandomForestClassifier(random_state=42))])\n",
    "\n",
    "param_distributions = {\n",
    "    'classifier__n_estimators': [100, 200, 300, 350 ,400],\n",
    "    'classifier__max_depth': [25, 30, 33, 35],\n",
    "    'classifier__min_samples_split': [10, 15, 20, 25],\n",
    "    'classifier__min_samples_leaf': [2, 3, 5, 7]\n",
    "}\n"
   ]
  },
  {
   "cell_type": "code",
   "execution_count": 24,
   "metadata": {},
   "outputs": [],
   "source": [
    "random_search = RandomizedSearchCV(pipeline, param_distributions=param_distributions, \n",
    "                                   n_iter=12, cv=5, verbose=1, \n",
    "                                   random_state=42, n_jobs=7)"
   ]
  },
  {
   "cell_type": "code",
   "execution_count": 25,
   "metadata": {},
   "outputs": [
    {
     "name": "stdout",
     "output_type": "stream",
     "text": [
      "Fitting 5 folds for each of 12 candidates, totalling 60 fits\n"
     ]
    }
   ],
   "source": [
    "random_search.fit(X_train, y_train)\n",
    "\n",
    "# Resultados\n",
    "best_model = random_search.best_estimator_\n",
    "print(\"Best parameters found: \", random_search.best_params_)\n",
    "print(\"Best cross-validation score: {:.2f}\".format(random_search.best_score_))"
   ]
  },
  {
   "cell_type": "code",
   "execution_count": null,
   "metadata": {},
   "outputs": [
    {
     "name": "stdout",
     "output_type": "stream",
     "text": [
      "Acurácia nos dados de teste: 0.78\n"
     ]
    }
   ],
   "source": [
    "y_pred = random_search.predict(X_test)\n",
    "accuracy = accuracy_score(y_test, y_pred)\n",
    "print(f'Acurácia nos dados de teste: {accuracy:.2f}')"
   ]
  },
  {
   "cell_type": "code",
   "execution_count": null,
   "metadata": {},
   "outputs": [
    {
     "name": "stdout",
     "output_type": "stream",
     "text": [
      "                     precision    recall  f1-score   support\n",
      "\n",
      " Com Vítimas Fatais       0.57      0.01      0.02      2839\n",
      "Com Vítimas Feridas       0.78      0.98      0.87     33198\n",
      "        Sem Vítimas       0.74      0.21      0.33      8116\n",
      "\n",
      "           accuracy                           0.78     44153\n",
      "          macro avg       0.69      0.40      0.40     44153\n",
      "       weighted avg       0.76      0.78      0.71     44153\n",
      "\n"
     ]
    }
   ],
   "source": [
    "# Classification report\n",
    "print(classification_report(y_test, y_pred))"
   ]
  },
  {
   "cell_type": "code",
   "execution_count": null,
   "metadata": {},
   "outputs": [
    {
     "data": {
      "text/plain": [
       "['model/model.pkl']"
      ]
     },
     "execution_count": 13,
     "metadata": {},
     "output_type": "execute_result"
    }
   ],
   "source": [
    "# Salvando o modelo\n",
    "\n",
    "import joblib\n",
    "\n",
    "joblib.dump(pipeline, 'model/model.pkl')"
   ]
  },
  {
   "cell_type": "code",
   "execution_count": null,
   "metadata": {},
   "outputs": [],
   "source": [
    "from sklearn.preprocessing import StandardScaler\n",
    "from sklearn.cluster import DBSCAN\n",
    "import matplotlib.pyplot as plt"
   ]
  },
  {
   "cell_type": "code",
   "execution_count": null,
   "metadata": {},
   "outputs": [
    {
     "ename": "NotFittedError",
     "evalue": "This ColumnTransformer instance is not fitted yet. Call 'fit' with appropriate arguments before using this estimator.",
     "output_type": "error",
     "traceback": [
      "\u001b[0;31m---------------------------------------------------------------------------\u001b[0m",
      "\u001b[0;31mNotFittedError\u001b[0m                            Traceback (most recent call last)",
      "Cell \u001b[0;32mIn[15], line 1\u001b[0m\n\u001b[0;32m----> 1\u001b[0m X_new \u001b[38;5;241m=\u001b[39m pipeline\u001b[38;5;241m.\u001b[39mnamed_steps[\u001b[38;5;124m'\u001b[39m\u001b[38;5;124mpreprocessor\u001b[39m\u001b[38;5;124m'\u001b[39m]\u001b[38;5;241m.\u001b[39mtransform(X)\n\u001b[1;32m      2\u001b[0m scaler \u001b[38;5;241m=\u001b[39m StandardScaler(with_mean\u001b[38;5;241m=\u001b[39m\u001b[38;5;28;01mFalse\u001b[39;00m)\n\u001b[1;32m      3\u001b[0m X_scaled \u001b[38;5;241m=\u001b[39m scaler\u001b[38;5;241m.\u001b[39mfit_transform(X_new)\n",
      "File \u001b[0;32m~/anaconda3/lib/python3.11/site-packages/sklearn/utils/_set_output.py:313\u001b[0m, in \u001b[0;36m_wrap_method_output.<locals>.wrapped\u001b[0;34m(self, X, *args, **kwargs)\u001b[0m\n\u001b[1;32m    311\u001b[0m \u001b[38;5;129m@wraps\u001b[39m(f)\n\u001b[1;32m    312\u001b[0m \u001b[38;5;28;01mdef\u001b[39;00m \u001b[38;5;21mwrapped\u001b[39m(\u001b[38;5;28mself\u001b[39m, X, \u001b[38;5;241m*\u001b[39margs, \u001b[38;5;241m*\u001b[39m\u001b[38;5;241m*\u001b[39mkwargs):\n\u001b[0;32m--> 313\u001b[0m     data_to_wrap \u001b[38;5;241m=\u001b[39m f(\u001b[38;5;28mself\u001b[39m, X, \u001b[38;5;241m*\u001b[39margs, \u001b[38;5;241m*\u001b[39m\u001b[38;5;241m*\u001b[39mkwargs)\n\u001b[1;32m    314\u001b[0m     \u001b[38;5;28;01mif\u001b[39;00m \u001b[38;5;28misinstance\u001b[39m(data_to_wrap, \u001b[38;5;28mtuple\u001b[39m):\n\u001b[1;32m    315\u001b[0m         \u001b[38;5;66;03m# only wrap the first output for cross decomposition\u001b[39;00m\n\u001b[1;32m    316\u001b[0m         return_tuple \u001b[38;5;241m=\u001b[39m (\n\u001b[1;32m    317\u001b[0m             _wrap_data_with_container(method, data_to_wrap[\u001b[38;5;241m0\u001b[39m], X, \u001b[38;5;28mself\u001b[39m),\n\u001b[1;32m    318\u001b[0m             \u001b[38;5;241m*\u001b[39mdata_to_wrap[\u001b[38;5;241m1\u001b[39m:],\n\u001b[1;32m    319\u001b[0m         )\n",
      "File \u001b[0;32m~/anaconda3/lib/python3.11/site-packages/sklearn/compose/_column_transformer.py:1036\u001b[0m, in \u001b[0;36mColumnTransformer.transform\u001b[0;34m(self, X, **params)\u001b[0m\n\u001b[1;32m   1010\u001b[0m \u001b[38;5;250m\u001b[39m\u001b[38;5;124;03m\"\"\"Transform X separately by each transformer, concatenate results.\u001b[39;00m\n\u001b[1;32m   1011\u001b[0m \n\u001b[1;32m   1012\u001b[0m \u001b[38;5;124;03mParameters\u001b[39;00m\n\u001b[0;32m   (...)\u001b[0m\n\u001b[1;32m   1033\u001b[0m \u001b[38;5;124;03m    sparse matrices.\u001b[39;00m\n\u001b[1;32m   1034\u001b[0m \u001b[38;5;124;03m\"\"\"\u001b[39;00m\n\u001b[1;32m   1035\u001b[0m _raise_for_params(params, \u001b[38;5;28mself\u001b[39m, \u001b[38;5;124m\"\u001b[39m\u001b[38;5;124mtransform\u001b[39m\u001b[38;5;124m\"\u001b[39m)\n\u001b[0;32m-> 1036\u001b[0m check_is_fitted(\u001b[38;5;28mself\u001b[39m)\n\u001b[1;32m   1037\u001b[0m X \u001b[38;5;241m=\u001b[39m _check_X(X)\n\u001b[1;32m   1039\u001b[0m \u001b[38;5;66;03m# If ColumnTransformer is fit using a dataframe, and now a dataframe is\u001b[39;00m\n\u001b[1;32m   1040\u001b[0m \u001b[38;5;66;03m# passed to be transformed, we select columns by name instead. This\u001b[39;00m\n\u001b[1;32m   1041\u001b[0m \u001b[38;5;66;03m# enables the user to pass X at transform time with extra columns which\u001b[39;00m\n\u001b[1;32m   1042\u001b[0m \u001b[38;5;66;03m# were not present in fit time, and the order of the columns doesn't\u001b[39;00m\n\u001b[1;32m   1043\u001b[0m \u001b[38;5;66;03m# matter.\u001b[39;00m\n",
      "File \u001b[0;32m~/anaconda3/lib/python3.11/site-packages/sklearn/utils/validation.py:1632\u001b[0m, in \u001b[0;36mcheck_is_fitted\u001b[0;34m(estimator, attributes, msg, all_or_any)\u001b[0m\n\u001b[1;32m   1629\u001b[0m     \u001b[38;5;28;01mraise\u001b[39;00m \u001b[38;5;167;01mTypeError\u001b[39;00m(\u001b[38;5;124m\"\u001b[39m\u001b[38;5;132;01m%s\u001b[39;00m\u001b[38;5;124m is not an estimator instance.\u001b[39m\u001b[38;5;124m\"\u001b[39m \u001b[38;5;241m%\u001b[39m (estimator))\n\u001b[1;32m   1631\u001b[0m \u001b[38;5;28;01mif\u001b[39;00m \u001b[38;5;129;01mnot\u001b[39;00m _is_fitted(estimator, attributes, all_or_any):\n\u001b[0;32m-> 1632\u001b[0m     \u001b[38;5;28;01mraise\u001b[39;00m NotFittedError(msg \u001b[38;5;241m%\u001b[39m {\u001b[38;5;124m\"\u001b[39m\u001b[38;5;124mname\u001b[39m\u001b[38;5;124m\"\u001b[39m: \u001b[38;5;28mtype\u001b[39m(estimator)\u001b[38;5;241m.\u001b[39m\u001b[38;5;18m__name__\u001b[39m})\n",
      "\u001b[0;31mNotFittedError\u001b[0m: This ColumnTransformer instance is not fitted yet. Call 'fit' with appropriate arguments before using this estimator."
     ]
    }
   ],
   "source": [
    "X_new = pipeline.named_steps['preprocessor'].transform(X)\n",
    "scaler = StandardScaler(with_mean=False)\n",
    "X_scaled = scaler.fit_transform(X_new)"
   ]
  },
  {
   "cell_type": "code",
   "execution_count": null,
   "metadata": {},
   "outputs": [],
   "source": [
    "dbscan = DBSCAN(eps=1, min_samples=2)\n",
    "clusters = dbscan.fit_predict(X_scaled)"
   ]
  },
  {
   "cell_type": "code",
   "execution_count": null,
   "metadata": {},
   "outputs": [
    {
     "data": {
      "text/plain": [
       "cluster\n",
       "-1        55693\n",
       " 5547       639\n",
       " 5635       604\n",
       " 5837       588\n",
       " 6225       576\n",
       "          ...  \n",
       " 49385        2\n",
       " 49384        2\n",
       " 35508        2\n",
       " 49382        2\n",
       " 39285        2\n",
       "Name: count, Length: 67008, dtype: int64"
      ]
     },
     "execution_count": 64,
     "metadata": {},
     "output_type": "execute_result"
    }
   ],
   "source": [
    "df['cluster'] = clusters\n",
    "df['cluster'].value_counts()"
   ]
  },
  {
   "cell_type": "code",
   "execution_count": null,
   "metadata": {},
   "outputs": [
    {
     "name": "stdout",
     "output_type": "stream",
     "text": [
      "Tamanho de X_scaled: (563744, 188)\n",
      "Tamanho dos clusters: (563744,)\n"
     ]
    }
   ],
   "source": [
    "print(\"Tamanho de X_scaled:\", X_scaled.shape)\n",
    "print(\"Tamanho dos clusters:\", clusters.shape)"
   ]
  },
  {
   "cell_type": "code",
   "execution_count": null,
   "metadata": {},
   "outputs": [
    {
     "data": {
      "text/plain": [
       "cluster\n",
       "-1       55693\n",
       " 5547      639\n",
       " 5635      604\n",
       " 5837      588\n",
       " 6225      576\n",
       " 6291      542\n",
       " 78        527\n",
       " 5979      524\n",
       " 5515      461\n",
       " 40        453\n",
       "Name: count, dtype: int64"
      ]
     },
     "execution_count": 84,
     "metadata": {},
     "output_type": "execute_result"
    }
   ],
   "source": [
    "df['cluster'].value_counts()[:10]"
   ]
  },
  {
   "cell_type": "code",
   "execution_count": null,
   "metadata": {},
   "outputs": [
    {
     "data": {
      "text/html": [
       "<div>\n",
       "<style scoped>\n",
       "    .dataframe tbody tr th:only-of-type {\n",
       "        vertical-align: middle;\n",
       "    }\n",
       "\n",
       "    .dataframe tbody tr th {\n",
       "        vertical-align: top;\n",
       "    }\n",
       "\n",
       "    .dataframe thead th {\n",
       "        text-align: right;\n",
       "    }\n",
       "</style>\n",
       "<table border=\"1\" class=\"dataframe\">\n",
       "  <thead>\n",
       "    <tr style=\"text-align: right;\">\n",
       "      <th></th>\n",
       "      <th>classificacao_acidente</th>\n",
       "      <th>regiao</th>\n",
       "      <th>tipo_acidente</th>\n",
       "      <th>causa_acidente</th>\n",
       "      <th>hora</th>\n",
       "      <th>uso_solo</th>\n",
       "      <th>br</th>\n",
       "      <th>tipo_veiculo</th>\n",
       "      <th>cluster</th>\n",
       "    </tr>\n",
       "  </thead>\n",
       "  <tbody>\n",
       "    <tr>\n",
       "      <th>102</th>\n",
       "      <td>Com Vítimas Feridas</td>\n",
       "      <td>Sudeste</td>\n",
       "      <td>Capotamento</td>\n",
       "      <td>Velocidade Incompatível</td>\n",
       "      <td>16.0</td>\n",
       "      <td>Rural</td>\n",
       "      <td>BR-381</td>\n",
       "      <td>Automóvel</td>\n",
       "      <td>40</td>\n",
       "    </tr>\n",
       "    <tr>\n",
       "      <th>597</th>\n",
       "      <td>Com Vítimas Feridas</td>\n",
       "      <td>Sudeste</td>\n",
       "      <td>Capotamento</td>\n",
       "      <td>Velocidade Incompatível</td>\n",
       "      <td>14.0</td>\n",
       "      <td>Rural</td>\n",
       "      <td>BR-381</td>\n",
       "      <td>Automóvel</td>\n",
       "      <td>40</td>\n",
       "    </tr>\n",
       "    <tr>\n",
       "      <th>598</th>\n",
       "      <td>Com Vítimas Feridas</td>\n",
       "      <td>Sudeste</td>\n",
       "      <td>Capotamento</td>\n",
       "      <td>Velocidade Incompatível</td>\n",
       "      <td>14.0</td>\n",
       "      <td>Rural</td>\n",
       "      <td>BR-381</td>\n",
       "      <td>Automóvel</td>\n",
       "      <td>40</td>\n",
       "    </tr>\n",
       "    <tr>\n",
       "      <th>599</th>\n",
       "      <td>Com Vítimas Feridas</td>\n",
       "      <td>Sudeste</td>\n",
       "      <td>Capotamento</td>\n",
       "      <td>Velocidade Incompatível</td>\n",
       "      <td>14.0</td>\n",
       "      <td>Rural</td>\n",
       "      <td>BR-381</td>\n",
       "      <td>Automóvel</td>\n",
       "      <td>40</td>\n",
       "    </tr>\n",
       "    <tr>\n",
       "      <th>1313</th>\n",
       "      <td>Com Vítimas Feridas</td>\n",
       "      <td>Sudeste</td>\n",
       "      <td>Capotamento</td>\n",
       "      <td>Velocidade Incompatível</td>\n",
       "      <td>10.0</td>\n",
       "      <td>Rural</td>\n",
       "      <td>BR-381</td>\n",
       "      <td>Automóvel</td>\n",
       "      <td>40</td>\n",
       "    </tr>\n",
       "    <tr>\n",
       "      <th>1314</th>\n",
       "      <td>Com Vítimas Feridas</td>\n",
       "      <td>Sudeste</td>\n",
       "      <td>Capotamento</td>\n",
       "      <td>Velocidade Incompatível</td>\n",
       "      <td>10.0</td>\n",
       "      <td>Rural</td>\n",
       "      <td>BR-381</td>\n",
       "      <td>Automóvel</td>\n",
       "      <td>40</td>\n",
       "    </tr>\n",
       "    <tr>\n",
       "      <th>1578</th>\n",
       "      <td>Com Vítimas Feridas</td>\n",
       "      <td>Sudeste</td>\n",
       "      <td>Capotamento</td>\n",
       "      <td>Velocidade Incompatível</td>\n",
       "      <td>12.0</td>\n",
       "      <td>Rural</td>\n",
       "      <td>BR-381</td>\n",
       "      <td>Automóvel</td>\n",
       "      <td>40</td>\n",
       "    </tr>\n",
       "    <tr>\n",
       "      <th>1579</th>\n",
       "      <td>Com Vítimas Feridas</td>\n",
       "      <td>Sudeste</td>\n",
       "      <td>Capotamento</td>\n",
       "      <td>Velocidade Incompatível</td>\n",
       "      <td>12.0</td>\n",
       "      <td>Rural</td>\n",
       "      <td>BR-381</td>\n",
       "      <td>Automóvel</td>\n",
       "      <td>40</td>\n",
       "    </tr>\n",
       "    <tr>\n",
       "      <th>2581</th>\n",
       "      <td>Com Vítimas Feridas</td>\n",
       "      <td>Sudeste</td>\n",
       "      <td>Capotamento</td>\n",
       "      <td>Velocidade Incompatível</td>\n",
       "      <td>8.0</td>\n",
       "      <td>Rural</td>\n",
       "      <td>BR-381</td>\n",
       "      <td>Automóvel</td>\n",
       "      <td>40</td>\n",
       "    </tr>\n",
       "    <tr>\n",
       "      <th>2582</th>\n",
       "      <td>Com Vítimas Feridas</td>\n",
       "      <td>Sudeste</td>\n",
       "      <td>Capotamento</td>\n",
       "      <td>Velocidade Incompatível</td>\n",
       "      <td>8.0</td>\n",
       "      <td>Rural</td>\n",
       "      <td>BR-381</td>\n",
       "      <td>Automóvel</td>\n",
       "      <td>40</td>\n",
       "    </tr>\n",
       "  </tbody>\n",
       "</table>\n",
       "</div>"
      ],
      "text/plain": [
       "     classificacao_acidente   regiao tipo_acidente           causa_acidente  \\\n",
       "102     Com Vítimas Feridas  Sudeste   Capotamento  Velocidade Incompatível   \n",
       "597     Com Vítimas Feridas  Sudeste   Capotamento  Velocidade Incompatível   \n",
       "598     Com Vítimas Feridas  Sudeste   Capotamento  Velocidade Incompatível   \n",
       "599     Com Vítimas Feridas  Sudeste   Capotamento  Velocidade Incompatível   \n",
       "1313    Com Vítimas Feridas  Sudeste   Capotamento  Velocidade Incompatível   \n",
       "1314    Com Vítimas Feridas  Sudeste   Capotamento  Velocidade Incompatível   \n",
       "1578    Com Vítimas Feridas  Sudeste   Capotamento  Velocidade Incompatível   \n",
       "1579    Com Vítimas Feridas  Sudeste   Capotamento  Velocidade Incompatível   \n",
       "2581    Com Vítimas Feridas  Sudeste   Capotamento  Velocidade Incompatível   \n",
       "2582    Com Vítimas Feridas  Sudeste   Capotamento  Velocidade Incompatível   \n",
       "\n",
       "      hora uso_solo      br tipo_veiculo  cluster  \n",
       "102   16.0    Rural  BR-381    Automóvel       40  \n",
       "597   14.0    Rural  BR-381    Automóvel       40  \n",
       "598   14.0    Rural  BR-381    Automóvel       40  \n",
       "599   14.0    Rural  BR-381    Automóvel       40  \n",
       "1313  10.0    Rural  BR-381    Automóvel       40  \n",
       "1314  10.0    Rural  BR-381    Automóvel       40  \n",
       "1578  12.0    Rural  BR-381    Automóvel       40  \n",
       "1579  12.0    Rural  BR-381    Automóvel       40  \n",
       "2581   8.0    Rural  BR-381    Automóvel       40  \n",
       "2582   8.0    Rural  BR-381    Automóvel       40  "
      ]
     },
     "execution_count": 86,
     "metadata": {},
     "output_type": "execute_result"
    }
   ],
   "source": [
    "df[df['cluster'] == 40].head(10)"
   ]
  },
  {
   "cell_type": "code",
   "execution_count": null,
   "metadata": {},
   "outputs": [],
   "source": [
    "# Salvando os dados\n",
    "\n",
    "df.to_csv('data/acidentes_cluster.csv', index=False)"
   ]
  },
  {
   "cell_type": "code",
   "execution_count": null,
   "metadata": {},
   "outputs": [],
   "source": []
  }
 ],
 "metadata": {
  "kernelspec": {
   "display_name": "base",
   "language": "python",
   "name": "python3"
  },
  "language_info": {
   "codemirror_mode": {
    "name": "ipython",
    "version": 3
   },
   "file_extension": ".py",
   "mimetype": "text/x-python",
   "name": "python",
   "nbconvert_exporter": "python",
   "pygments_lexer": "ipython3",
   "version": "3.11.7"
  }
 },
 "nbformat": 4,
 "nbformat_minor": 2
}
